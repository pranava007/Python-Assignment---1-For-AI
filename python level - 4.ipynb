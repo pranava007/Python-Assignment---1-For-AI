{
 "cells": [
  {
   "cell_type": "code",
   "execution_count": 3,
   "id": "5d670432-2eff-4e1c-95c2-8793f4090419",
   "metadata": {},
   "outputs": [
    {
     "data": {
      "text/plain": [
       "8"
      ]
     },
     "execution_count": 3,
     "metadata": {},
     "output_type": "execute_result"
    }
   ],
   "source": [
    "def fuc(a,b):\n",
    "    add = a+b\n",
    "    return add\n",
    "fuc(2,6)\n"
   ]
  },
  {
   "cell_type": "code",
   "execution_count": 12,
   "id": "a0bd684a-ef97-444a-b02b-6358a6eef28a",
   "metadata": {},
   "outputs": [],
   "source": [
    "def oddEven(a):\n",
    "    if(a%2 == 0):\n",
    "        message = \"Even\"\n",
    "    else:\n",
    "        message = \"Odd\"\n",
    "    return message\n",
    "    "
   ]
  },
  {
   "cell_type": "code",
   "execution_count": 16,
   "id": "59fd029e-0d5f-4d1f-8436-814a93c53537",
   "metadata": {},
   "outputs": [
    {
     "data": {
      "text/plain": [
       "'Odd'"
      ]
     },
     "execution_count": 16,
     "metadata": {},
     "output_type": "execute_result"
    }
   ],
   "source": [
    "oddEven(3)"
   ]
  },
  {
   "cell_type": "code",
   "execution_count": 46,
   "id": "9dd81646-ea8c-41fb-bfd1-62e94df80550",
   "metadata": {},
   "outputs": [
    {
     "name": "stdout",
     "output_type": "stream",
     "text": [
      "Enter your gender (male/female):  male\n",
      "Enter your age:  23\n"
     ]
    },
    {
     "name": "stdout",
     "output_type": "stream",
     "text": [
      "Eligible\n"
     ]
    }
   ],
   "source": [
    "def eligibility():\n",
    "    gender = str(input(\"Enter your gender (male/female): \"))\n",
    "    age = int(input(\"Enter your age: \"))\n",
    "    \n",
    "    if gender == 'male' and age >= 21:\n",
    "        print('Eligible')\n",
    "    elif gender == 'female' and age >= 18:\n",
    "        print('Eligible')\n",
    "    elif gender == 'male' and age < 21:\n",
    "        print('Not Eligible')\n",
    "    elif gender == 'female' and age < 18:\n",
    "        print('Not Eligible')\n",
    "    else:\n",
    "        print('Invalid input')\n",
    "\n",
    "# Call the function\n",
    "eligibility()\n"
   ]
  },
  {
   "cell_type": "code",
   "execution_count": 48,
   "id": "395d1abe-6a2e-4140-ab4e-afaf950d8da6",
   "metadata": {},
   "outputs": [
    {
     "name": "stdout",
     "output_type": "stream",
     "text": [
      "tamil 50\n",
      "english 50\n",
      "math 50\n",
      "sicence 50\n",
      "socialsicence 50\n"
     ]
    },
    {
     "data": {
      "text/plain": [
       "50.0"
      ]
     },
     "execution_count": 48,
     "metadata": {},
     "output_type": "execute_result"
    }
   ],
   "source": [
    "def percentageMark():\n",
    "    tamil=int(input(\"tamil\"))\n",
    "    english=int(input(\"english\"))\n",
    "    math=int(input(\"math\"))\n",
    "    sicence=int(input(\"sicence\"))\n",
    "    socialsicence =int(input(\"socialsicence\"))\n",
    "    fiveSubjectmark = tamil + english + math + sicence + socialsicence\n",
    "    maxMark = 500\n",
    "    dev = fiveSubjectmark/maxMark \n",
    "    percentage = dev * 100\n",
    "    return percentage\n",
    "\n",
    "percentageMark()\n",
    "    "
   ]
  },
  {
   "cell_type": "code",
   "execution_count": 1,
   "id": "47758b83-6413-48a9-9a34-65b953fd141b",
   "metadata": {},
   "outputs": [
    {
     "name": "stdin",
     "output_type": "stream",
     "text": [
      " 32\n",
      " 34\n"
     ]
    },
    {
     "name": "stdout",
     "output_type": "stream",
     "text": [
      "Area Of Triangle : 544.0\n"
     ]
    }
   ],
   "source": [
    "def triangle():\n",
    "    height = int(input())\n",
    "    breadth = int(input())\n",
    "    areaOftriangle = height * breadth/2\n",
    "    print(\"Area Of Triangle :\",areaOftriangle)\n",
    "triangle()"
   ]
  },
  {
   "cell_type": "code",
   "execution_count": 3,
   "id": "1daca7ab-8456-4ec6-8b7d-de0986e7aa07",
   "metadata": {},
   "outputs": [
    {
     "name": "stdin",
     "output_type": "stream",
     "text": [
      " 2\n",
      " 4\n",
      " 4\n"
     ]
    },
    {
     "name": "stdout",
     "output_type": "stream",
     "text": [
      "Perimeter Of Triangle : 10\n"
     ]
    }
   ],
   "source": [
    "def triangle1():\n",
    "    Height1 = int(input())\n",
    "    Height2 = int(input())\n",
    "    Breadth = int(input())\n",
    "    perimeterOftriangle = Height1 + Height2 + Breadth\n",
    "    print(\"Perimeter Of Triangle :\",perimeterOftriangle)\n",
    "triangle1()"
   ]
  },
  {
   "cell_type": "code",
   "execution_count": 7,
   "id": "29543619-66d2-4a55-926d-099bc74f9ed5",
   "metadata": {},
   "outputs": [
    {
     "name": "stdout",
     "output_type": "stream",
     "text": [
      "Sub-fields in AI are :\n",
      "Machine Learing\n",
      "Neural Networks\n",
      "Vsision\n",
      "Robotics\n",
      "Speech Processing\n",
      "Natural Language Processing\n"
     ]
    }
   ],
   "source": [
    "list = ( 'Machine Learing','Neural Networks','Vsision','Robotics','Speech Processing','Natural Language Processing')\n",
    "\n",
    "print('Sub-fields in AI are :')\n",
    "for item in list:\n",
    "    print(item)"
   ]
  },
  {
   "cell_type": "code",
   "execution_count": null,
   "id": "3c72d71f-6aaa-4c71-993e-c576aed85687",
   "metadata": {},
   "outputs": [],
   "source": []
  }
 ],
 "metadata": {
  "kernelspec": {
   "display_name": "Python 3 (ipykernel)",
   "language": "python",
   "name": "python3"
  },
  "language_info": {
   "codemirror_mode": {
    "name": "ipython",
    "version": 3
   },
   "file_extension": ".py",
   "mimetype": "text/x-python",
   "name": "python",
   "nbconvert_exporter": "python",
   "pygments_lexer": "ipython3",
   "version": "3.12.4"
  }
 },
 "nbformat": 4,
 "nbformat_minor": 5
}
