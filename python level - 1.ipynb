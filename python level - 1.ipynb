{
 "cells": [
  {
   "cell_type": "code",
   "execution_count": 1,
   "id": "ae4b55e7-e715-4736-bda8-3ccbbfa8959a",
   "metadata": {},
   "outputs": [
    {
     "name": "stdout",
     "output_type": "stream",
     "text": [
      "HOPE AI\n"
     ]
    }
   ],
   "source": [
    "#print Statement\n",
    "print(\"HOPE AI\")"
   ]
  },
  {
   "cell_type": "code",
   "execution_count": 7,
   "id": "205b4d88-f649-492e-bf6f-58972014e8c0",
   "metadata": {},
   "outputs": [
    {
     "name": "stdin",
     "output_type": "stream",
     "text": [
      "Enter Your institute name : HOPE AI\n"
     ]
    },
    {
     "name": "stdout",
     "output_type": "stream",
     "text": [
      "Institute Name : HOPE AI\n"
     ]
    }
   ],
   "source": [
    "#Buy input\n",
    "name = input(\"Enter Your institute name :\")\n",
    "print(\"Institute Name :\",name)"
   ]
  },
  {
   "cell_type": "code",
   "execution_count": 5,
   "id": "3af2de5d-882a-4583-8a7a-9178510d1f3f",
   "metadata": {},
   "outputs": [
    {
     "name": "stdin",
     "output_type": "stream",
     "text": [
      "Enter Your name : pranavamuthu\n",
      "Enter Your  age : 23\n",
      "Enter Your school : Britto\n",
      "Enter Your degree  : MCA\n"
     ]
    },
    {
     "name": "stdout",
     "output_type": "stream",
     "text": [
      "Your name : pranavamuthu\n",
      "Your  age : 23\n",
      "Your school : Britto\n",
      "Your degree  : MCA\n"
     ]
    }
   ],
   "source": [
    "#Buy inputs\n",
    "name = input(\"Enter Your name :\")\n",
    "age = int(input(\"Enter Your  age :\"))\n",
    "school = input(\"Enter Your school :\")\n",
    "degree = input(\"Enter Your degree  :\")\n",
    "\n",
    "print(\"Your name :\",name)\n",
    "print(\"Your  age :\",age)\n",
    "print(\"Your school :\",school)\n",
    "print(\"Your degree  :\",degree)\n",
    "\n"
   ]
  },
  {
   "cell_type": "code",
   "execution_count": 15,
   "id": "aa08b5bf-7ce4-407f-98b8-8d1a8b34321e",
   "metadata": {},
   "outputs": [
    {
     "name": "stdout",
     "output_type": "stream",
     "text": [
      "add : 77\n"
     ]
    }
   ],
   "source": [
    "#Addition\n",
    "a=43\n",
    "b=34\n",
    "add=a+b\n",
    "print(\"add :\",add)"
   ]
  },
  {
   "cell_type": "code",
   "execution_count": 21,
   "id": "9e84fdb3-cfaa-48d0-9966-a354d2a26889",
   "metadata": {},
   "outputs": [
    {
     "name": "stdout",
     "output_type": "stream",
     "text": [
      "sub : 9\n"
     ]
    }
   ],
   "source": [
    "#subraction\n",
    "a=43\n",
    "b=34\n",
    "sub=a-b\n",
    "print(\"sub :\",sub)"
   ]
  },
  {
   "cell_type": "code",
   "execution_count": 23,
   "id": "10f9fa81-c820-4305-a26d-00dd1f734b46",
   "metadata": {},
   "outputs": [
    {
     "name": "stdout",
     "output_type": "stream",
     "text": [
      "sub : 6111\n"
     ]
    }
   ],
   "source": [
    "#Multiplication\n",
    "a=63\n",
    "b=97\n",
    "mul=a*b\n",
    "print(\"sub :\",mul)\n"
   ]
  },
  {
   "cell_type": "code",
   "execution_count": 27,
   "id": "4fde428b-8659-4120-874b-84b4211b3110",
   "metadata": {},
   "outputs": [
    {
     "name": "stdout",
     "output_type": "stream",
     "text": [
      "Division : 2.4516129032258065\n"
     ]
    }
   ],
   "source": [
    "#Division\n",
    "a=76\n",
    "b=31\n",
    "dev=a/b\n",
    "print(\"Division :\",dev)\n"
   ]
  },
  {
   "cell_type": "code",
   "execution_count": 35,
   "id": "83be9160-2db9-4743-88c6-51a2c3529cb9",
   "metadata": {},
   "outputs": [
    {
     "name": "stdout",
     "output_type": "stream",
     "text": [
      "Floor division : 2\n"
     ]
    }
   ],
   "source": [
    "#Floor division\n",
    "a=76\n",
    "b=31\n",
    "dev=a//b\n",
    "print(\"Floor division :\",dev)\n"
   ]
  },
  {
   "cell_type": "code",
   "execution_count": 37,
   "id": "9e085abe-affe-4873-bb56-fca7bb398f6c",
   "metadata": {},
   "outputs": [
    {
     "name": "stdout",
     "output_type": "stream",
     "text": [
      "Modulo : 14\n"
     ]
    }
   ],
   "source": [
    "#Modulo\n",
    "a=76\n",
    "b=31\n",
    "Modulo=a%b\n",
    "print(\"Modulo :\",Modulo)"
   ]
  },
  {
   "cell_type": "code",
   "execution_count": 39,
   "id": "3ac95115-d6e3-4ea8-a6e6-928dc9bb7121",
   "metadata": {},
   "outputs": [
    {
     "name": "stdout",
     "output_type": "stream",
     "text": [
      "Modulo : 256\n"
     ]
    }
   ],
   "source": [
    "#Power\n",
    "a=4\n",
    "b=4\n",
    "Power=a**b\n",
    "print(\"Modulo :\",Power)"
   ]
  },
  {
   "cell_type": "code",
   "execution_count": null,
   "id": "aed60c43-680a-42f0-b5e4-44d178409479",
   "metadata": {},
   "outputs": [],
   "source": []
  }
 ],
 "metadata": {
  "kernelspec": {
   "display_name": "Python 3 (ipykernel)",
   "language": "python",
   "name": "python3"
  },
  "language_info": {
   "codemirror_mode": {
    "name": "ipython",
    "version": 3
   },
   "file_extension": ".py",
   "mimetype": "text/x-python",
   "name": "python",
   "nbconvert_exporter": "python",
   "pygments_lexer": "ipython3",
   "version": "3.12.4"
  }
 },
 "nbformat": 4,
 "nbformat_minor": 5
}
