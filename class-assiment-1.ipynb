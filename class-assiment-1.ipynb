{
 "cells": [
  {
   "cell_type": "code",
   "execution_count": 1,
   "id": "b7d8ff15-bd5b-4760-906a-778f0195ed35",
   "metadata": {},
   "outputs": [],
   "source": [
    "from SubfieldInAI import Subfields"
   ]
  },
  {
   "cell_type": "code",
   "execution_count": 3,
   "id": "e74baebe-c58b-424d-9ea2-25422e4c8912",
   "metadata": {},
   "outputs": [
    {
     "name": "stdout",
     "output_type": "stream",
     "text": [
      "Sub-fields in AI are :\n",
      "Machine Learing\n",
      "Neural Networks\n",
      "Vsision\n",
      "Robotics\n",
      "Speech Processing\n",
      "Natural Language Processing\n"
     ]
    }
   ],
   "source": [
    "Subfields.Subfields()"
   ]
  },
  {
   "cell_type": "code",
   "execution_count": 59,
   "id": "af75de3f-31aa-4475-8a58-f0512439c944",
   "metadata": {},
   "outputs": [],
   "source": [
    "from OddEven import oddEven"
   ]
  },
  {
   "cell_type": "code",
   "execution_count": 65,
   "id": "347cb2d5-7d97-4a41-b651-876d40c8d80d",
   "metadata": {},
   "outputs": [
    {
     "data": {
      "text/plain": [
       "'Even'"
      ]
     },
     "execution_count": 65,
     "metadata": {},
     "output_type": "execute_result"
    }
   ],
   "source": [
    "oddEven.oddEven(6)"
   ]
  },
  {
   "cell_type": "code",
   "execution_count": 67,
   "id": "70a896ea-fa0b-42a0-b217-3be291e1e8bb",
   "metadata": {},
   "outputs": [],
   "source": [
    "from ElegiblityForMarriage import Elegible"
   ]
  },
  {
   "cell_type": "code",
   "execution_count": 69,
   "id": "d23387b5-0542-4921-925f-e9fe211ce9f0",
   "metadata": {},
   "outputs": [
    {
     "name": "stdin",
     "output_type": "stream",
     "text": [
      "Enter your gender (male/female):  male\n",
      "Enter your age:  23\n"
     ]
    },
    {
     "name": "stdout",
     "output_type": "stream",
     "text": [
      "Eligible\n"
     ]
    }
   ],
   "source": [
    "Elegible.eligibility()"
   ]
  },
  {
   "cell_type": "code",
   "execution_count": 71,
   "id": "00dc005f-b08f-4aa7-a58a-19b5e69fbf34",
   "metadata": {},
   "outputs": [],
   "source": [
    "from FindPercent import percentage"
   ]
  },
  {
   "cell_type": "code",
   "execution_count": 73,
   "id": "77b3f8a5-317a-4c09-b407-817e9646f1ff",
   "metadata": {},
   "outputs": [
    {
     "name": "stdin",
     "output_type": "stream",
     "text": [
      "tamil 50\n",
      "english 50\n",
      "math 50\n",
      "sicence 50\n",
      "socialsicence 50\n"
     ]
    },
    {
     "data": {
      "text/plain": [
       "50.0"
      ]
     },
     "execution_count": 73,
     "metadata": {},
     "output_type": "execute_result"
    }
   ],
   "source": [
    "percentage.percentageMark()"
   ]
  },
  {
   "cell_type": "code",
   "execution_count": 77,
   "id": "5dfcea0d-4a2f-44c2-96fa-76748052e11e",
   "metadata": {},
   "outputs": [],
   "source": [
    "from Triangle import triangle"
   ]
  },
  {
   "cell_type": "code",
   "execution_count": 79,
   "id": "a99775a4-ef49-4d35-b670-f18eb0a4e68d",
   "metadata": {},
   "outputs": [
    {
     "name": "stdin",
     "output_type": "stream",
     "text": [
      " 2\n",
      " 4\n"
     ]
    },
    {
     "name": "stdout",
     "output_type": "stream",
     "text": [
      "Area Of Triangle : 4.0\n"
     ]
    }
   ],
   "source": [
    "triangle.areaoftriangle1()"
   ]
  },
  {
   "cell_type": "code",
   "execution_count": 81,
   "id": "3690901d-1d98-4c00-8a17-0aa6f514d3e7",
   "metadata": {},
   "outputs": [
    {
     "name": "stdin",
     "output_type": "stream",
     "text": [
      " 5\n",
      " 4\n",
      " 4\n"
     ]
    },
    {
     "name": "stdout",
     "output_type": "stream",
     "text": [
      "Perimeter Of Triangle : 13\n"
     ]
    }
   ],
   "source": [
    "triangle.perimeter()"
   ]
  },
  {
   "cell_type": "code",
   "execution_count": null,
   "id": "d693f9b7-7530-4bba-81e4-b176be76d743",
   "metadata": {},
   "outputs": [],
   "source": []
  }
 ],
 "metadata": {
  "kernelspec": {
   "display_name": "Python 3 (ipykernel)",
   "language": "python",
   "name": "python3"
  },
  "language_info": {
   "codemirror_mode": {
    "name": "ipython",
    "version": 3
   },
   "file_extension": ".py",
   "mimetype": "text/x-python",
   "name": "python",
   "nbconvert_exporter": "python",
   "pygments_lexer": "ipython3",
   "version": "3.12.4"
  }
 },
 "nbformat": 4,
 "nbformat_minor": 5
}
