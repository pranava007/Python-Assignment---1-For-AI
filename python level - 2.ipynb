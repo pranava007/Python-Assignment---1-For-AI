{
 "cells": [
  {
   "cell_type": "code",
   "execution_count": 1,
   "id": "8518666c-acc9-4d3b-961a-9d22b351c61a",
   "metadata": {},
   "outputs": [
    {
     "name": "stdout",
     "output_type": "stream",
     "text": [
      "0\n",
      "1\n",
      "2\n",
      "3\n",
      "4\n",
      "5\n",
      "6\n",
      "7\n",
      "8\n",
      "9\n",
      "10\n",
      "11\n",
      "12\n",
      "13\n",
      "14\n",
      "15\n",
      "16\n",
      "17\n",
      "18\n",
      "19\n"
     ]
    }
   ],
   "source": [
    "#print 0 to 20 by using range\n",
    "for temp in range(0,20):\n",
    "    print(temp)"
   ]
  },
  {
   "cell_type": "code",
   "execution_count": 3,
   "id": "cbd2e43e-cdac-44d1-991e-da39b632cae6",
   "metadata": {},
   "outputs": [
    {
     "name": "stdout",
     "output_type": "stream",
     "text": [
      "10\n",
      "11\n",
      "12\n",
      "13\n",
      "14\n",
      "15\n",
      "16\n",
      "17\n",
      "18\n",
      "19\n"
     ]
    }
   ],
   "source": [
    "#print 10 to 20 by using range\n",
    "for temp in range(10,20):\n",
    "    print(temp)"
   ]
  },
  {
   "cell_type": "code",
   "execution_count": 5,
   "id": "ecc105d5-0938-4145-acbe-2e1b9d8e00ee",
   "metadata": {},
   "outputs": [
    {
     "name": "stdout",
     "output_type": "stream",
     "text": [
      "Number of item in the List2: 7\n"
     ]
    }
   ],
   "source": [
    "#print the number of items in the list by using 'len'\n",
    "list = [10,20,14,55,43,87,76]\n",
    "print(\"Number of item in the List2:\",len(list))"
   ]
  },
  {
   "cell_type": "code",
   "execution_count": 9,
   "id": "e1d65dd9-b3cf-43bd-9915-fb82930521eb",
   "metadata": {},
   "outputs": [
    {
     "name": "stdin",
     "output_type": "stream",
     "text": [
      "Enter Name : Artificial Intelligence\n"
     ]
    },
    {
     "name": "stdout",
     "output_type": "stream",
     "text": [
      "A\n",
      "r\n",
      "t\n",
      "i\n",
      "f\n",
      "i\n",
      "c\n",
      "i\n",
      "a\n",
      "l\n",
      " \n",
      "I\n",
      "n\n",
      "t\n",
      "e\n",
      "l\n",
      "l\n",
      "i\n",
      "g\n",
      "e\n",
      "n\n",
      "c\n",
      "e\n"
     ]
    }
   ],
   "source": [
    "name = input(\"Enter Name :\")\n",
    "\n",
    "for temp in name:\n",
    "    print(temp)\n"
   ]
  },
  {
   "cell_type": "code",
   "execution_count": 11,
   "id": "8442ce8e-4a4c-4fd8-8690-e4b92432d1ed",
   "metadata": {},
   "outputs": [
    {
     "name": "stdin",
     "output_type": "stream",
     "text": [
      "Enter Name : pranavamuthu\n",
      "Enter Age : 23\n",
      "Enter Profession : web developer\n"
     ]
    },
    {
     "name": "stdout",
     "output_type": "stream",
     "text": [
      "Your Name pranavamuthu\n",
      "Your Age 23\n",
      "Your Profession web developer\n"
     ]
    }
   ],
   "source": [
    "Name = input(\"Enter Name :\")\n",
    "Age = int(input(\"Enter Age :\"))\n",
    "Profession = input(\"Enter Profession :\")\n",
    "\n",
    "print(\"Your Name\",Name)\n",
    "print(\"Your Age\",Age)\n",
    "print(\"Your Profession\",Profession)\n"
   ]
  },
  {
   "cell_type": "code",
   "execution_count": null,
   "id": "678a51e3-8df8-4646-8d68-2fb4cbb70d94",
   "metadata": {},
   "outputs": [],
   "source": [
    "#print "
   ]
  }
 ],
 "metadata": {
  "kernelspec": {
   "display_name": "Python 3 (ipykernel)",
   "language": "python",
   "name": "python3"
  },
  "language_info": {
   "codemirror_mode": {
    "name": "ipython",
    "version": 3
   },
   "file_extension": ".py",
   "mimetype": "text/x-python",
   "name": "python",
   "nbconvert_exporter": "python",
   "pygments_lexer": "ipython3",
   "version": "3.12.4"
  }
 },
 "nbformat": 4,
 "nbformat_minor": 5
}
