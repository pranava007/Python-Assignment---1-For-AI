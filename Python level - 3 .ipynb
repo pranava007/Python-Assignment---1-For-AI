{
 "cells": [
  {
   "cell_type": "code",
   "execution_count": 5,
   "id": "5f9d9e1f-27c5-4035-8292-379c8e89ce4e",
   "metadata": {},
   "outputs": [
    {
     "name": "stdout",
     "output_type": "stream",
     "text": [
      "value : 10\n",
      "CORRCT\n"
     ]
    }
   ],
   "source": [
    "#print corrct if i ==10\n",
    "\n",
    "i = 10\n",
    "if(i == 10):\n",
    "    print('value :',i)\n",
    "    print('CORRCT')"
   ]
  },
  {
   "cell_type": "code",
   "execution_count": 13,
   "id": "467bd8a3-cbed-4752-af9e-f5de46a1e7b7",
   "metadata": {},
   "outputs": [
    {
     "name": "stdin",
     "output_type": "stream",
     "text": [
      "Enter Your Password: HOPE@123\n"
     ]
    },
    {
     "name": "stdout",
     "output_type": "stream",
     "text": [
      "Your Passwords Correct\n"
     ]
    }
   ],
   "source": [
    "# check the the passwords\n",
    "passwords = \"HOPE@123\"\n",
    "value = input(\"Enter Your Password:\")\n",
    "if(passwords == value):\n",
    "    print(\"Your Passwords Correct\")"
   ]
  },
  {
   "cell_type": "code",
   "execution_count": 39,
   "id": "54d22e84-5d95-482c-ba55-cbeecf84174d",
   "metadata": {},
   "outputs": [
    {
     "name": "stdout",
     "output_type": "stream",
     "text": [
      "citizen\n"
     ]
    }
   ],
   "source": [
    "#catagory the people by their age like children. adults, citizen, senior citizen\n",
    "age = 50\n",
    "if(age < 20):\n",
    "    print(\"children\")\n",
    "elif(age == 20 ):\n",
    "    print(\"adults\")\n",
    "elif(age == 50):\n",
    "    print(\"citizen\")\n",
    "elif( age == 75):\n",
    "    print(\"senior citizen\")\n"
   ]
  },
  {
   "cell_type": "code",
   "execution_count": 41,
   "id": "2c35299f-abca-410a-8868-0bfec40f6dce",
   "metadata": {},
   "outputs": [
    {
     "name": "stdin",
     "output_type": "stream",
     "text": [
      "Enter the value : 1\n"
     ]
    },
    {
     "name": "stdout",
     "output_type": "stream",
     "text": [
      "postive\n"
     ]
    }
   ],
   "source": [
    "# Find whether the given number is divisable by 5\n",
    "value = int(input(\"Enter the value :\"))\n",
    "if(value <  0):\n",
    "    print(\"Nagative\")\n",
    "else:\n",
    "    print(\"postive\")"
   ]
  },
  {
   "cell_type": "code",
   "execution_count": 67,
   "id": "9668d2cf-43a9-467e-8583-5154ffd5fe51",
   "metadata": {},
   "outputs": [
    {
     "name": "stdin",
     "output_type": "stream",
     "text": [
      "Enter a number to check: 22\n"
     ]
    },
    {
     "name": "stdout",
     "output_type": "stream",
     "text": [
      "No is not divisible by : 5 \n"
     ]
    }
   ],
   "source": [
    "#check wether the given number is divisible by 5\n",
    "divisible = int(input(\"Enter a number to check:\"))\n",
    "if(divisible % 5 != 0):\n",
    "    print(\"No is not divisible by : 5 \")"
   ]
  },
  {
   "cell_type": "code",
   "execution_count": null,
   "id": "ea2dc55e-7173-443e-a66c-0cecc8e21a25",
   "metadata": {},
   "outputs": [],
   "source": []
  }
 ],
 "metadata": {
  "kernelspec": {
   "display_name": "Python 3 (ipykernel)",
   "language": "python",
   "name": "python3"
  },
  "language_info": {
   "codemirror_mode": {
    "name": "ipython",
    "version": 3
   },
   "file_extension": ".py",
   "mimetype": "text/x-python",
   "name": "python",
   "nbconvert_exporter": "python",
   "pygments_lexer": "ipython3",
   "version": "3.12.4"
  }
 },
 "nbformat": 4,
 "nbformat_minor": 5
}
