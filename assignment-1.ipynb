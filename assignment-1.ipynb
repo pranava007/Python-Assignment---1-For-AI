{
 "cells": [
  {
   "cell_type": "code",
   "execution_count": 1,
   "id": "4fd0bb45-c45c-4155-a424-e223adbe5629",
   "metadata": {},
   "outputs": [
    {
     "name": "stdout",
     "output_type": "stream",
     "text": [
      "40\n"
     ]
    }
   ],
   "source": [
    "Num1 = 10\n",
    "Num2 = 30\n",
    "Add = Num1+Num2\n",
    "print(Add)"
   ]
  },
  {
   "cell_type": "code",
   "execution_count": 9,
   "id": "e40aabe6-08ef-4af2-8e1a-f6e7d8f783e7",
   "metadata": {},
   "outputs": [
    {
     "name": "stdin",
     "output_type": "stream",
     "text": [
      "Enter Your Height : 1.75\n",
      "Enter Your weight : 75\n"
     ]
    },
    {
     "name": "stdout",
     "output_type": "stream",
     "text": [
      "24.489795918367346\n",
      "Normal\n"
     ]
    }
   ],
   "source": [
    "# Body mass BMI\n",
    "\n",
    "height = float(input(\"Enter Your Height :\"))\n",
    "weight = int(input(\"Enter Your weight :\"))\n",
    "\n",
    "mul = height * height\n",
    "\n",
    "BMI = weight/mul\n",
    "\n",
    "print(\"Your BMI :\",BMI)\n",
    "\n",
    "if(BMI < 18.4):\n",
    "    print(\"Underweight\")\n",
    "elif(BMI < 24.9):\n",
    "    print(\"Normal\")\n",
    "elif(BMI < 39.9):\n",
    "    print(\"Overweight\")\n",
    "else:\n",
    "    print(\"Obese\")\n",
    "\n",
    "\n"
   ]
  },
  {
   "cell_type": "code",
   "execution_count": null,
   "id": "b47a4fa5-6b60-48c9-8e62-d0b956ceb108",
   "metadata": {},
   "outputs": [],
   "source": []
  }
 ],
 "metadata": {
  "kernelspec": {
   "display_name": "Python 3 (ipykernel)",
   "language": "python",
   "name": "python3"
  },
  "language_info": {
   "codemirror_mode": {
    "name": "ipython",
    "version": 3
   },
   "file_extension": ".py",
   "mimetype": "text/x-python",
   "name": "python",
   "nbconvert_exporter": "python",
   "pygments_lexer": "ipython3",
   "version": "3.12.4"
  }
 },
 "nbformat": 4,
 "nbformat_minor": 5
}
